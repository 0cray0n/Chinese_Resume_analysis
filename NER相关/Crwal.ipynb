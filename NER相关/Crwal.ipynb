{
 "cells": [
  {
   "cell_type": "markdown",
   "source": [
    "## 1. 打开浏览器\n"
   ],
   "metadata": {
    "collapsed": false,
    "pycharm": {
     "name": "#%% md\n"
    }
   }
  },
  {
   "cell_type": "code",
   "execution_count": 1,
   "outputs": [
    {
     "name": "stdout",
     "output_type": "stream",
     "text": [
      "下载目录:\n",
      "E:\\python\\Program\\服创\\NER相关\n"
     ]
    }
   ],
   "source": [
    "from Util.Selenium_Util import Selenium_Edge\n",
    "edge_driver = Selenium_Edge()"
   ],
   "metadata": {
    "collapsed": false,
    "pycharm": {
     "name": "#%%\n"
    }
   }
  },
  {
   "cell_type": "code",
   "execution_count": 13,
   "outputs": [],
   "source": [
    "from Util import util\n",
    "all_path = util.create_or_find_date_dir()"
   ],
   "metadata": {
    "collapsed": false,
    "pycharm": {
     "name": "#%%\n"
    }
   }
  },
  {
   "cell_type": "code",
   "execution_count": 15,
   "outputs": [],
   "source": [
    "import os\n",
    "for filename in os.listdir(all_path):\n",
    "    # print(filename)\n",
    "    major_path = os.path.join(all_path, filename)\n",
    "    pdf_path = os.path.join(major_path,filename) + \".pdf\"\n",
    "    txt_path = os.path.join(major_path, filename) + \".txt\"\n",
    "    json_path = os.path.join(major_path, filename) + \".json\"\n",
    "    # print(file_pdf)\n",
    "    if not os.path.exists(pdf_path):\n",
    "        print(\"pdf不存在\")\n",
    "        continue\n",
    "    if not os.path.exists(txt_path):\n",
    "        text = util.get_str_from_pdf(pdf_path)\n",
    "        with open(txt_path, 'w', encoding='utf-8') as f:\n",
    "            f.write(text)\n",
    "        print(f\"txt已生成于目录{txt_path}\")\n",
    "    if os.path.exists(json_path):\n",
    "        print(\"json文件已存在\")\n",
    "        continue\n",
    "\n",
    "    break"
   ],
   "metadata": {
    "collapsed": false,
    "pycharm": {
     "name": "#%%\n"
    }
   }
  }
 ],
 "metadata": {
  "kernelspec": {
   "display_name": "Python 3",
   "language": "python",
   "name": "python3"
  },
  "language_info": {
   "codemirror_mode": {
    "name": "ipython",
    "version": 2
   },
   "file_extension": ".py",
   "mimetype": "text/x-python",
   "name": "python",
   "nbconvert_exporter": "python",
   "pygments_lexer": "ipython2",
   "version": "2.7.6"
  }
 },
 "nbformat": 4,
 "nbformat_minor": 0
}
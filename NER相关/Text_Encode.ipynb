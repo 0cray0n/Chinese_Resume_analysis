{
 "cells": [
  {
   "cell_type": "code",
   "execution_count": 1,
   "metadata": {
    "collapsed": true,
    "pycharm": {
     "name": "#%%\n"
    }
   },
   "outputs": [
    {
     "name": "stderr",
     "output_type": "stream",
     "text": [
      "F:\\Anacoda\\envs\\pytorch\\lib\\site-packages\\tqdm\\auto.py:21: TqdmWarning: IProgress not found. Please update jupyter and ipywidgets. See https://ipywidgets.readthedocs.io/en/stable/user_install.html\n",
      "  from .autonotebook import tqdm as notebook_tqdm\n",
      "F:\\Anacoda\\envs\\pytorch\\lib\\site-packages\\transformers\\utils\\hub.py:124: FutureWarning: Using `TRANSFORMERS_CACHE` is deprecated and will be removed in v5 of Transformers. Use `HF_HOME` instead.\n",
      "  warnings.warn(\n",
      "F:\\Anacoda\\envs\\pytorch\\lib\\site-packages\\huggingface_hub\\file_download.py:149: UserWarning: `huggingface_hub` cache-system uses symlinks by default to efficiently store duplicated files but your machine does not support them in F:\\huggingface_cache\\models--bert-base-chinese. Caching files will still work but in a degraded version that might require more space on your disk. This warning can be disabled by setting the `HF_HUB_DISABLE_SYMLINKS_WARNING` environment variable. For more details, see https://huggingface.co/docs/huggingface_hub/how-to-cache#limitations.\n",
      "To support symlinks on Windows, you either need to activate Developer Mode or to run Python as an administrator. In order to see activate developer mode, see this article: https://docs.microsoft.com/en-us/windows/apps/get-started/enable-your-device-for-development\n",
      "  warnings.warn(message)\n"
     ]
    },
    {
     "name": "stdout",
     "output_type": "stream",
     "text": [
      "句子: 人工智能是计算机科学的一个分支。\n",
      "编码: [101, 782, 2339, 3255, 5543, 3221, 6369, 5050, 3322, 4906, 2110, 4638, 671, 702, 1146, 3118, 511, 102]\n",
      "Tokens: ['[CLS]', '人', '工', '智', '能', '是', '计', '算', '机', '科', '学', '的', '一', '个', '分', '支', '。', '[SEP]']\n",
      "句子: 它企图了解智能的实质。\n",
      "编码: [101, 2124, 821, 1745, 749, 6237, 3255, 5543, 4638, 2141, 6574, 511, 102]\n",
      "Tokens: ['[CLS]', '它', '企', '图', '了', '解', '智', '能', '的', '实', '质', '。', '[SEP]']\n",
      "句子: 人工智能是一门极富挑战性的科学。\n",
      "编码: [101, 782, 2339, 3255, 5543, 3221, 671, 7305, 3353, 2168, 2904, 2773, 2595, 4638, 4906, 2110, 511, 102]\n",
      "Tokens: ['[CLS]', '人', '工', '智', '能', '是', '一', '门', '极', '富', '挑', '战', '性', '的', '科', '学', '。', '[SEP]']\n"
     ]
    }
   ],
   "source": [
    "from transformers import BertTokenizer, BertModel\n",
    "\n",
    "# 加载预训练的Tokenizer\n",
    "tokenizer = BertTokenizer.from_pretrained('bert-base-chinese')  # 使用适用于中文的预训练模型\n",
    "\n",
    "# 示例句子\n",
    "sents = [\n",
    "    '人工智能是计算机科学的一个分支。',\n",
    "    '它企图了解智能的实质。',\n",
    "    '人工智能是一门极富挑战性的科学。',\n",
    "]\n",
    "\n",
    "# 对每个句子进行编码\n",
    "for sent in sents:\n",
    "    # 编码，同时添加特殊标记\n",
    "    encoded_input = tokenizer.encode(sent, add_special_tokens=True)\n",
    "    print(f\"句子: {sent}\")\n",
    "    print(f\"编码: {encoded_input}\")\n",
    "    # 将编码转换回tokens进行检查\n",
    "    tokens = tokenizer.convert_ids_to_tokens(encoded_input)\n",
    "    print(f\"Tokens: {tokens}\")\n",
    "#输出：[8, 35, 826, 52, 10, 159, 559, 98, 147, 18, 5, 7, 27, 59, 414, 12043]\n"
   ]
  }
 ],
 "metadata": {
  "kernelspec": {
   "display_name": "Python 3",
   "language": "python",
   "name": "python3"
  },
  "language_info": {
   "codemirror_mode": {
    "name": "ipython",
    "version": 2
   },
   "file_extension": ".py",
   "mimetype": "text/x-python",
   "name": "python",
   "nbconvert_exporter": "python",
   "pygments_lexer": "ipython2",
   "version": "2.7.6"
  }
 },
 "nbformat": 4,
 "nbformat_minor": 0
}